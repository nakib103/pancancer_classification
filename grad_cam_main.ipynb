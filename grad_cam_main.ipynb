{
  "nbformat": 4,
  "nbformat_minor": 0,
  "metadata": {
    "colab": {
      "name": "grad_cam_main.ipynb",
      "provenance": [],
      "collapsed_sections": [],
      "authorship_tag": "ABX9TyNlBo7glHxuLLts3tLV8uOw",
      "include_colab_link": true
    },
    "kernelspec": {
      "name": "python3",
      "display_name": "Python 3"
    },
    "accelerator": "GPU"
  },
  "cells": [
    {
      "cell_type": "markdown",
      "metadata": {
        "id": "view-in-github",
        "colab_type": "text"
      },
      "source": [
        "<a href=\"https://colab.research.google.com/github/nakib103/pancancer_classification/blob/master/grad_cam_main.ipynb\" target=\"_parent\"><img src=\"https://colab.research.google.com/assets/colab-badge.svg\" alt=\"Open In Colab\"/></a>"
      ]
    },
    {
      "cell_type": "code",
      "metadata": {
        "id": "o2CtbE21zxSW"
      },
      "source": [
        "import numpy as np\n",
        "import pandas as pd\n",
        "import pickle\n",
        "import math\n",
        "import cv2\n",
        "\n",
        "import tensorflow as tf\n",
        "from tensorflow.keras.models import Sequential, load_model\n",
        "from tensorflow.keras.layers import Dense, Dropout, Conv2D, MaxPooling2D, Flatten\n",
        "from tensorflow.keras.wrappers.scikit_learn import KerasRegressor\n",
        "from tensorflow.keras import regularizers\n",
        "from tensorflow.keras import optimizers\n",
        "from tensorflow.keras.utils import to_categorical\n",
        "\n",
        "from sklearn.model_selection import cross_val_score\n",
        "from sklearn.model_selection import KFold, StratifiedKFold\n",
        "from sklearn.preprocessing import StandardScaler\n",
        "from sklearn.pipeline import Pipeline\n",
        "\n",
        "# Display\n",
        "from IPython.display import Image\n",
        "import matplotlib.pyplot as plt\n",
        "import matplotlib.cm as cm"
      ],
      "execution_count": 40,
      "outputs": []
    },
    {
      "cell_type": "code",
      "metadata": {
        "id": "EuDdZLY9050g",
        "outputId": "e39f624f-8b0e-45b2-d548-cb6312ab76f5",
        "colab": {
          "base_uri": "https://localhost:8080/",
          "height": 34
        }
      },
      "source": [
        "from google.colab import drive\n",
        "drive.mount(\"/content/drive\")"
      ],
      "execution_count": 41,
      "outputs": [
        {
          "output_type": "stream",
          "text": [
            "Drive already mounted at /content/drive; to attempt to forcibly remount, call drive.mount(\"/content/drive\", force_remount=True).\n"
          ],
          "name": "stdout"
        }
      ]
    },
    {
      "cell_type": "code",
      "metadata": {
        "id": "WD4T6OJf1FlX"
      },
      "source": [
        "# load data and label and model\n",
        "\n",
        "data = pd.read_pickle(\"/content/drive/My Drive/data/data_df.pkl\")\n",
        "label = pd.read_pickle(\"/content/drive/My Drive/data/label_df.pkl\")\n",
        "\n",
        "\n",
        "# data_log_transformed = data.apply(lambda x: np.log2(x + 1))\n",
        "# var = data_log_transformed.var(axis=0)\n",
        "# ommit_feature = np.where( var < 1.19 )\n",
        "\n",
        "model = load_model(\"/content/drive/My Drive/results/model_without_featreduction_2D_1.h5\")"
      ],
      "execution_count": 42,
      "outputs": []
    },
    {
      "cell_type": "code",
      "metadata": {
        "id": "KlgwMpyY4-Rg"
      },
      "source": [
        "last_conv_layer_name = \"dropout_2\"\n",
        "classifier_layer_names = [\n",
        "    \"flatten\",\n",
        "    \"dense\",\n",
        "    \"dense_1\",\n",
        "    \"dense_2\",\n",
        "    \"dense_3\",\n",
        "]"
      ],
      "execution_count": 43,
      "outputs": []
    },
    {
      "cell_type": "code",
      "metadata": {
        "id": "2ChLwwwT5S0Q"
      },
      "source": [
        "def make_gradcam_heatmap(\n",
        "    sample, model, last_conv_layer_name, classifier_layer_names\n",
        "):\n",
        "    # First, we create a model that maps the input image to the activations\n",
        "    # of the last conv layer\n",
        "    last_conv_layer = model.get_layer(last_conv_layer_name)\n",
        "    last_conv_layer_model = tf.keras.Model(model.inputs, last_conv_layer.output)\n",
        "\n",
        "    # Second, we create a model that maps the activations of the last conv\n",
        "    # layer to the final class predictions\n",
        "    classifier_input = tf.keras.Input(shape=last_conv_layer.output.shape[1:])\n",
        "    x = classifier_input\n",
        "    for layer_name in classifier_layer_names:\n",
        "        x = model.get_layer(layer_name)(x)\n",
        "    classifier_model = tf.keras.Model(classifier_input, x)\n",
        "\n",
        "    # Then, we compute the gradient of the top predicted class for our input image\n",
        "    # with respect to the activations of the last conv layer\n",
        "    with tf.GradientTape() as tape:\n",
        "        # Compute activations of the last conv layer and make the tape watch it\n",
        "        last_conv_layer_output = last_conv_layer_model(sample)\n",
        "  \n",
        "        tape.watch(last_conv_layer_output)\n",
        "        # Compute class predictions\n",
        "        preds = classifier_model(last_conv_layer_output)\n",
        "        \n",
        "        top_pred_index = tf.argmax(preds[0])\n",
        "        top_class_channel = preds[:, top_pred_index]\n",
        "        \n",
        "\n",
        "    # This is the gradient of the top predicted class with regard to\n",
        "    # the output feature map of the last conv layer\n",
        "    grads = tape.gradient(top_class_channel, last_conv_layer_output)\n",
        "    \n",
        "    # This is a vector where each entry is the mean intensity of the gradient\n",
        "    # over a specific feature map channel\n",
        "    pooled_grads = tf.reduce_mean(grads, axis=(0, 2, 3))\n",
        "    \n",
        "    # We multiply each channel in the feature map array\n",
        "    # by \"how important this channel is\" with regard to the top predicted class\n",
        "    last_conv_layer_output = last_conv_layer_output.numpy()[0]\n",
        "    pooled_grads = pooled_grads.numpy()\n",
        "    for i in range(pooled_grads.shape[-1]):\n",
        "        last_conv_layer_output[i, :, :] *= pooled_grads[i]\n",
        "\n",
        "    # The channel-wise mean of the resulting feature map\n",
        "    # is our heatmap of class activation\n",
        "    heatmap = np.mean(last_conv_layer_output, axis=0)\n",
        "    \n",
        "    # For visualization purpose, we will also normalize the heatmap between 0 & 1\n",
        "    heatmap = np.maximum(heatmap, 0) / np.max(heatmap)\n",
        "    return heatmap"
      ],
      "execution_count": 44,
      "outputs": []
    },
    {
      "cell_type": "code",
      "metadata": {
        "id": "_Q4_h5IR9t3c"
      },
      "source": [
        "def preprocess_input(sample, shape):\n",
        "  sample_log_transformed = sample.apply(lambda x: np.log2(x + 1))\n",
        "\n",
        "  # feature = data.columns\n",
        "  # for idx in ommit_feature:\n",
        "  #   sample_feature_reduced = sample_log_transformed.drop(feature[idx])\n",
        "\n",
        "  x = sample_log_transformed.values\n",
        "  x = np.pad(x, ((0, shape[0] * shape[1] - x.shape[0])), 'constant', constant_values=0)  \n",
        "  x = np.reshape(x, (1, 1, shape[0], shape[1]))\n",
        "  return x"
      ],
      "execution_count": 45,
      "outputs": []
    },
    {
      "cell_type": "code",
      "metadata": {
        "id": "4w2DDdkl5ci9"
      },
      "source": [
        "# Prepare image\n",
        "def generate_heatmap(class_label, id):\n",
        "  class_data = data[label[0] == class_label]\n",
        "\n",
        "  for idx in range(class_data.shape[0]):\n",
        "    sample_data = preprocess_input(class_data.iloc[idx], (150, 150))\n",
        "\n",
        "    # Print what the top predicted class is\n",
        "    preds = model.predict(sample_data)\n",
        "    pred_id = np.argmax(preds[0])\n",
        "\n",
        "    if pred_id != id:\n",
        "      continue\n",
        "    \n",
        "    # print(\"Predicted:\", pred_id, \" Actual class: \", id)\n",
        "\n",
        "    # Generate class activation heatmap\n",
        "    heatmap = make_gradcam_heatmap(\n",
        "        sample_data, model, last_conv_layer_name, classifier_layer_names\n",
        "    )\n",
        "\n",
        "    try:\n",
        "      overall_heatmap\n",
        "      overall_heatmap = np.append(\n",
        "        overall_heatmap,\n",
        "        np.reshape(heatmap, (1, heatmap.shape[0], heatmap.shape[1])),\n",
        "        axis = 0\n",
        "    )\n",
        "    except:\n",
        "      overall_heatmap = np.reshape(heatmap, (1, heatmap.shape[0], heatmap.shape[1]))\n",
        "  \n",
        "  avg_heatmap = np.average(heatmap, axis = 0)\n",
        "\n",
        "  # We rescale heatmap to a range 0-255\n",
        "  heatmap = np.uint8(255 * avg_heatmap)\n",
        "\n",
        "  resized_heatmap = cv2.resize(heatmap, (150, 150), interpolation=cv2.INTER_AREA)\n",
        "\n",
        "  return resized_heatmap\n",
        "  \n",
        "  # Display heatmap\n",
        "  # plt.matshow(heatmap)\n",
        "  # plt.show()"
      ],
      "execution_count": 46,
      "outputs": []
    },
    {
      "cell_type": "code",
      "metadata": {
        "id": "kfLtqAnjOFJ8"
      },
      "source": [
        "def generate_gene_rank(heatmap, rank):\n",
        "\n",
        "  gene_rank = heatmap.flatten().argsort()\n",
        "  # print(gene_rank.shape)\n",
        "  genes = {}\n",
        "  for idx in range(rank):\n",
        "    if gene_rank[idx] < 20531:\n",
        "      genes[idx] = (gene_rank[idx], data.columns[gene_rank[idx]])\n",
        "\n",
        "  return genes"
      ],
      "execution_count": 47,
      "outputs": []
    },
    {
      "cell_type": "code",
      "metadata": {
        "id": "6r-s1lJEEEo5"
      },
      "source": [
        "def plot_heatmap(heatmap):\n",
        "  # We use jet colormap to colorize heatmap\n",
        "  jet = cm.get_cmap(\"jet\")\n",
        "\n",
        "  # We use RGB values of the colormap\n",
        "  jet_colors = jet(np.arange(256))[:, :3]\n",
        "  jet_heatmap = jet_colors[heatmap]\n",
        "\n",
        "  # We create an image with RGB colorized heatmap\n",
        "  jet_heatmap = tf.keras.preprocessing.image.array_to_img(jet_heatmap)\n",
        "  jet_heatmap = jet_heatmap.resize((150, 150))\n",
        "  jet_heatmap = tf.keras.preprocessing.image.img_to_array(jet_heatmap)\n",
        "\n",
        "  # Superimpose the heatmap on original data\n",
        "  # superimposed_img = jet_heatmap * 0.4 + img\n",
        "  superimposed_img = tf.keras.preprocessing.image.array_to_img(jet_heatmap)\n",
        "\n",
        "  # Save the superimposed image\n",
        "  save_path = \"/content/drive/My Drive/results/grad_cam/avg_class18.jpg\"\n",
        "  superimposed_img.save(save_path)\n",
        "\n",
        "  # Display Grad CAM\n",
        "  display(Image(save_path))"
      ],
      "execution_count": 48,
      "outputs": []
    },
    {
      "cell_type": "code",
      "metadata": {
        "id": "eclb4R3-q9Im"
      },
      "source": [
        "# superimposed_img = np.multiply(resized_heatmap * img)"
      ],
      "execution_count": 49,
      "outputs": []
    },
    {
      "cell_type": "code",
      "metadata": {
        "id": "4tVykztSDm-T"
      },
      "source": [
        "classes = ['GBM', 'OV', 'LUAD', 'LUSC', 'PRAD', 'UCEC', 'BLCA', 'TGCT', 'ESCA', 'PAAD', 'KIRP', 'LIHC', 'CESC', 'SARC', 'BRCA', 'THYM', 'MESO', 'COAD', 'STAD', 'SKCM', 'CHOL', 'KIRC', 'THCA', 'HNSC', 'LAML', 'READ', 'LGG', 'DLBC', 'KICH', 'UCS', 'ACC', 'PCPG', 'UVM']\n",
        "geneset = []\n",
        "\n",
        "for id, class_type in enumerate(classes):\n",
        "  heatmap = generate_heatmap(class_type, id)\n",
        "  \n",
        "  genes = generate_gene_rank(heatmap, 20531)\n",
        "  geneset = geneset + [genes]"
      ],
      "execution_count": 50,
      "outputs": []
    },
    {
      "cell_type": "code",
      "metadata": {
        "id": "b3XvYAKl8g0O"
      },
      "source": [
        "# geneset"
      ],
      "execution_count": 51,
      "outputs": []
    },
    {
      "cell_type": "code",
      "metadata": {
        "id": "dUObVoCEKOPY"
      },
      "source": [
        "with open(\"/content/drive/My Drive/results/gene_rank.pkl\", \"wb\") as file:\n",
        "  pickle.dump(geneset, file)"
      ],
      "execution_count": 52,
      "outputs": []
    },
    {
      "cell_type": "code",
      "metadata": {
        "id": "_g1OOdh_LP3F",
        "outputId": "cc8f1f48-77f5-4091-cb02-2c3e41dbe792",
        "colab": {
          "base_uri": "https://localhost:8080/",
          "height": 34
        }
      },
      "source": [
        "len(set( val for genes in geneset[:2] for val in genes.values()))"
      ],
      "execution_count": 53,
      "outputs": [
        {
          "output_type": "execute_result",
          "data": {
            "text/plain": [
              "20531"
            ]
          },
          "metadata": {
            "tags": []
          },
          "execution_count": 53
        }
      ]
    },
    {
      "cell_type": "code",
      "metadata": {
        "id": "HfQvGVmFKHyy"
      },
      "source": [
        "with open(\"/content/drive/My Drive/results/gene_rank.pkl\", \"rb\") as file:\n",
        "  temp = pickle.load(file)"
      ],
      "execution_count": 54,
      "outputs": []
    },
    {
      "cell_type": "code",
      "metadata": {
        "id": "LttxjMEYKitx",
        "outputId": "be84e170-51d4-41a1-b259-f285cadec145",
        "colab": {
          "base_uri": "https://localhost:8080/",
          "height": 34
        }
      },
      "source": [
        "len(temp)"
      ],
      "execution_count": 55,
      "outputs": [
        {
          "output_type": "execute_result",
          "data": {
            "text/plain": [
              "33"
            ]
          },
          "metadata": {
            "tags": []
          },
          "execution_count": 55
        }
      ]
    }
  ]
}