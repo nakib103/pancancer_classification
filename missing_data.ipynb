{
  "nbformat": 4,
  "nbformat_minor": 0,
  "metadata": {
    "colab": {
      "name": "missing-data.ipynb",
      "provenance": [],
      "authorship_tag": "ABX9TyPt+0XhIKtDPsu5teHpxY8K",
      "include_colab_link": true
    },
    "kernelspec": {
      "name": "python3",
      "display_name": "Python 3"
    }
  },
  "cells": [
    {
      "cell_type": "markdown",
      "metadata": {
        "id": "view-in-github",
        "colab_type": "text"
      },
      "source": [
        "<a href=\"https://colab.research.google.com/github/nakib103/pancancer_classification/blob/master/missing_data.ipynb\" target=\"_parent\"><img src=\"https://colab.research.google.com/assets/colab-badge.svg\" alt=\"Open In Colab\"/></a>"
      ]
    },
    {
      "cell_type": "code",
      "metadata": {
        "id": "Z1PGPlLCMsMQ"
      },
      "source": [
        "import numpy as np\n",
        "import pandas as pd\n",
        "import pickle\n",
        "import math\n",
        "import cv2\n",
        "\n",
        "import tensorflow as tf\n",
        "from tensorflow.keras.models import Sequential, load_model\n",
        "from tensorflow.keras.layers import Dense, Dropout, Conv2D, MaxPooling2D, Flatten\n",
        "from tensorflow.keras.wrappers.scikit_learn import KerasRegressor\n",
        "from tensorflow.keras import regularizers\n",
        "from tensorflow.keras import optimizers\n",
        "from tensorflow.keras.utils import to_categorical\n",
        "\n",
        "from sklearn.model_selection import cross_val_score\n",
        "from sklearn.model_selection import KFold, StratifiedKFold\n",
        "from sklearn.preprocessing import StandardScaler\n",
        "from sklearn.pipeline import Pipeline\n",
        "\n",
        "# Display\n",
        "from IPython.display import Image\n",
        "import matplotlib.pyplot as plt\n",
        "import matplotlib.cm as cm"
      ],
      "execution_count": 1,
      "outputs": []
    },
    {
      "cell_type": "code",
      "metadata": {
        "id": "EuDdZLY9050g",
        "outputId": "8c3679ae-d438-41e1-f8c5-6c6ffd398992",
        "colab": {
          "base_uri": "https://localhost:8080/",
          "height": 34
        }
      },
      "source": [
        "from google.colab import drive\n",
        "drive.mount(\"/content/drive\")"
      ],
      "execution_count": 2,
      "outputs": [
        {
          "output_type": "stream",
          "text": [
            "Mounted at /content/drive\n"
          ],
          "name": "stdout"
        }
      ]
    },
    {
      "cell_type": "code",
      "metadata": {
        "id": "WD4T6OJf1FlX"
      },
      "source": [
        "# load data and label and model\n",
        "\n",
        "data = pd.read_pickle(\"/content/drive/My Drive/data/data_df.pkl\")\n",
        "label = pd.read_pickle(\"/content/drive/My Drive/data/label_df.pkl\")\n",
        "\n",
        "\n",
        "# data_log_transformed = data.apply(lambda x: np.log2(x + 1))\n",
        "# var = data_log_transformed.var(axis=0)\n",
        "# ommit_feature = np.where( var < 1.19 )\n",
        "\n",
        "model = load_model(\"/content/drive/My Drive/results/model_without_featreduction_2D_1.h5\")"
      ],
      "execution_count": 3,
      "outputs": []
    },
    {
      "cell_type": "code",
      "metadata": {
        "id": "KlgwMpyY4-Rg"
      },
      "source": [
        "with open(\"/content/drive/My Drive/results/gene_rank.pkl\", \"rb\") as file:\n",
        "  geneset = pickle.load(file)"
      ],
      "execution_count": 4,
      "outputs": []
    },
    {
      "cell_type": "code",
      "metadata": {
        "id": "_g1OOdh_LP3F",
        "outputId": "130745b1-826b-4ce3-d485-b1d77ad4dbd7",
        "colab": {
          "base_uri": "https://localhost:8080/",
          "height": 34
        }
      },
      "source": [
        "len(set( genes[val] for genes in geneset for val in genes))"
      ],
      "execution_count": 20,
      "outputs": [
        {
          "output_type": "execute_result",
          "data": {
            "text/plain": [
              "20531"
            ]
          },
          "metadata": {
            "tags": []
          },
          "execution_count": 20
        }
      ]
    },
    {
      "cell_type": "code",
      "metadata": {
        "id": "y0BNpv8AOcxa"
      },
      "source": [
        "for val in geneset[0]:\n",
        "  print(geneset[0][val])"
      ],
      "execution_count": null,
      "outputs": []
    }
  ]
}