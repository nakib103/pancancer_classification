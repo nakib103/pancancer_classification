{
  "nbformat": 4,
  "nbformat_minor": 0,
  "metadata": {
    "colab": {
      "name": "analyze-output.ipynb",
      "provenance": [],
      "collapsed_sections": [],
      "include_colab_link": true
    },
    "kernelspec": {
      "name": "python3",
      "display_name": "Python 3"
    }
  },
  "cells": [
    {
      "cell_type": "markdown",
      "metadata": {
        "id": "view-in-github",
        "colab_type": "text"
      },
      "source": [
        "<a href=\"https://colab.research.google.com/github/nakib103/pancancer_classification/blob/master/analyze_output.ipynb\" target=\"_parent\"><img src=\"https://colab.research.google.com/assets/colab-badge.svg\" alt=\"Open In Colab\"/></a>"
      ]
    },
    {
      "cell_type": "code",
      "metadata": {
        "id": "wN-zSl97QLWv",
        "colab_type": "code",
        "colab": {}
      },
      "source": [
        "# import packages\n",
        "\n",
        "import pandas as pd\n",
        "import numpy as np\n",
        "import matplotlib.pyplot as plt\n",
        "\n",
        "from keras.models import model_from_json, load_model\n",
        "from keras.utils import to_categorical\n",
        "import keras.backend as K\n",
        "\n",
        "from sklearn.metrics import confusion_matrix"
      ],
      "execution_count": null,
      "outputs": []
    },
    {
      "cell_type": "code",
      "metadata": {
        "id": "OsB2u68LQTDJ",
        "colab_type": "code",
        "colab": {}
      },
      "source": [
        "# run this cell to mount your Google Drive.\n",
        "\n",
        "from google.colab import drive\n",
        "drive.mount('/content/drive')"
      ],
      "execution_count": null,
      "outputs": []
    },
    {
      "cell_type": "code",
      "metadata": {
        "id": "Q2YzGn66QX0Y",
        "colab_type": "code",
        "colab": {}
      },
      "source": [
        "# load model\n",
        "\n",
        "model = load_model(\"/content/drive/My Drive/results/model_with_weights_2D_3.h5\")"
      ],
      "execution_count": null,
      "outputs": []
    },
    {
      "cell_type": "code",
      "metadata": {
        "id": "wW6ZAEjdRm3G",
        "colab_type": "code",
        "colab": {}
      },
      "source": [
        "# load data and label\n",
        "\n",
        "data = np.load(\"/content/drive/My Drive/data/data_np_2D.npy\")\n",
        "label = np.load(\"/content/drive/My Drive/data/label_np_2D.npy\")"
      ],
      "execution_count": null,
      "outputs": []
    },
    {
      "cell_type": "code",
      "metadata": {
        "colab_type": "code",
        "id": "xyxVa8GyP3Yj",
        "colab": {}
      },
      "source": [
        "# get output of specific layer\n",
        "\n",
        "\n",
        "layer_output = np.empty((11069, 512))\n",
        "\n",
        "layer = 12\n",
        "start = 0\n",
        "for end in range(1000, 12000, 1000):\n",
        "  if end > 11069:\n",
        "    end = 11069\n",
        "    \n",
        "  func = K.function([model.input, K.learning_phase()], [model.layers[layer].output])\n",
        "  output = func([data[start:end], 0])\n",
        "  \n",
        "  layer_output[start:end] = output[0]  \n",
        "  \n",
        "  start = end  "
      ],
      "execution_count": null,
      "outputs": []
    },
    {
      "cell_type": "code",
      "metadata": {
        "id": "EikCB0kWJwzH",
        "colab_type": "code",
        "colab": {}
      },
      "source": [
        "# save output of specific layer\n",
        "\n",
        "layer_output\n",
        "np.save(\"/content/drive/My Drive/data/layer_12_output.npy\", layer_output)"
      ],
      "execution_count": null,
      "outputs": []
    },
    {
      "cell_type": "code",
      "metadata": {
        "id": "hTT4o5XpXg_R",
        "colab_type": "code",
        "colab": {
          "base_uri": "https://localhost:8080/",
          "height": 272
        },
        "outputId": "ae97aae7-73ca-480c-95f0-9ba35d5be75d"
      },
      "source": [
        "# predict the output\n",
        "\n",
        "y_pred = model.predict(data, verbose=1)\n",
        "y_pred"
      ],
      "execution_count": null,
      "outputs": [
        {
          "output_type": "stream",
          "text": [
            "11069/11069 [==============================] - 360s 33ms/step\n"
          ],
          "name": "stdout"
        },
        {
          "output_type": "execute_result",
          "data": {
            "text/plain": [
              "array([[5.27423865e-04, 4.28401741e-08, 1.00669038e-08, ...,\n",
              "        2.24736795e-07, 2.59314875e-05, 6.78670915e-07],\n",
              "       [9.52224077e-09, 7.14516545e-07, 2.24616798e-07, ...,\n",
              "        2.46805754e-09, 8.58718041e-10, 3.08859582e-09],\n",
              "       [1.04928404e-07, 6.70369191e-05, 3.87348655e-06, ...,\n",
              "        5.74971409e-07, 2.10707199e-07, 6.87209592e-07],\n",
              "       ...,\n",
              "       [1.60139552e-05, 1.73251668e-04, 8.66371214e-01, ...,\n",
              "        9.23106054e-05, 2.41656198e-05, 2.37812014e-06],\n",
              "       [1.77317111e-06, 2.41653039e-03, 7.49840092e-06, ...,\n",
              "        8.60989360e-07, 2.88076166e-07, 5.95631661e-07],\n",
              "       [6.33533404e-08, 1.55880201e-07, 8.00211978e-07, ...,\n",
              "        2.96318831e-07, 9.91560754e-08, 4.43739168e-07]], dtype=float32)"
            ]
          },
          "metadata": {
            "tags": []
          },
          "execution_count": 11
        }
      ]
    },
    {
      "cell_type": "code",
      "metadata": {
        "id": "6SN0ZxFHZIi1",
        "colab_type": "code",
        "colab": {}
      },
      "source": [
        "# create confusion matrix\n",
        "\n",
        "matrix = confusion_matrix(label.argmax(axis=1), y_pred.argmax(axis=1))"
      ],
      "execution_count": null,
      "outputs": []
    },
    {
      "cell_type": "code",
      "metadata": {
        "colab_type": "code",
        "id": "HnJwT0qZP3ZA",
        "colab": {
          "base_uri": "https://localhost:8080/",
          "height": 54
        },
        "outputId": "bf6f86d9-a660-4043-b7c1-acf9d0c3a78f"
      },
      "source": [
        "# check outputs\n",
        "\n",
        "print(label.argmax(axis=1))\n",
        "print(y_pred.argmax(axis=1))"
      ],
      "execution_count": null,
      "outputs": [
        {
          "output_type": "stream",
          "text": [
            "[26 14 14 ...  3  5 22]\n",
            "[26 14 14 ...  2  5 22]\n"
          ],
          "name": "stdout"
        }
      ]
    },
    {
      "cell_type": "code",
      "metadata": {
        "colab_type": "code",
        "id": "oD9Sa5q1P3ZE",
        "colab": {
          "base_uri": "https://localhost:8080/",
          "height": 269
        },
        "outputId": "0187b030-e805-494b-8a99-4a79834fdae2"
      },
      "source": [
        "# plot confusion matrix\n",
        "\n",
        "plt.imshow(matrix)\n",
        "plt.show()"
      ],
      "execution_count": null,
      "outputs": [
        {
          "output_type": "display_data",
          "data": {
            "image/png": "[encoded data removed]",
            "text/plain": [
              "<Figure size 432x288 with 1 Axes>"
            ]
          },
          "metadata": {
            "tags": []
          }
        }
      ]
    }
  ]
}