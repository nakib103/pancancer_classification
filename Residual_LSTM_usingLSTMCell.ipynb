{
  "nbformat": 4,
  "nbformat_minor": 0,
  "metadata": {
    "colab": {
      "name": "Residual-LSTM_usingLSTMCell.ipynb",
      "provenance": [],
      "authorship_tag": "ABX9TyP7pYYIRX/LtruYfVm2ZoG+",
      "include_colab_link": true
    },
    "kernelspec": {
      "name": "python3",
      "display_name": "Python 3"
    }
  },
  "cells": [
    {
      "cell_type": "markdown",
      "metadata": {
        "id": "view-in-github",
        "colab_type": "text"
      },
      "source": [
        "<a href=\"https://colab.research.google.com/github/nakib103/pancancer_classification/blob/master/Residual_LSTM_usingLSTMCell.ipynb\" target=\"_parent\"><img src=\"https://colab.research.google.com/assets/colab-badge.svg\" alt=\"Open In Colab\"/></a>"
      ]
    },
    {
      "cell_type": "code",
      "metadata": {
        "id": "CyScQtGGPcmc",
        "colab_type": "code",
        "colab": {
          "base_uri": "https://localhost:8080/",
          "height": 680
        },
        "outputId": "5c07fb49-90ac-4b00-c70c-453b80644a27"
      },
      "source": [
        "!pip install 'tensorflow == 2.3.0'"
      ],
      "execution_count": 1,
      "outputs": [
        {
          "output_type": "stream",
          "text": [
            "Requirement already satisfied: tensorflow==2.3.0 in /usr/local/lib/python3.6/dist-packages (2.3.0)\n",
            "Requirement already satisfied: absl-py>=0.7.0 in /usr/local/lib/python3.6/dist-packages (from tensorflow==2.3.0) (0.9.0)\n",
            "Requirement already satisfied: tensorboard<3,>=2.3.0 in /usr/local/lib/python3.6/dist-packages (from tensorflow==2.3.0) (2.3.0)\n",
            "Requirement already satisfied: gast==0.3.3 in /usr/local/lib/python3.6/dist-packages (from tensorflow==2.3.0) (0.3.3)\n",
            "Requirement already satisfied: astunparse==1.6.3 in /usr/local/lib/python3.6/dist-packages (from tensorflow==2.3.0) (1.6.3)\n",
            "Requirement already satisfied: tensorflow-estimator<2.4.0,>=2.3.0 in /usr/local/lib/python3.6/dist-packages (from tensorflow==2.3.0) (2.3.0)\n",
            "Requirement already satisfied: scipy==1.4.1 in /usr/local/lib/python3.6/dist-packages (from tensorflow==2.3.0) (1.4.1)\n",
            "Requirement already satisfied: grpcio>=1.8.6 in /usr/local/lib/python3.6/dist-packages (from tensorflow==2.3.0) (1.30.0)\n",
            "Requirement already satisfied: termcolor>=1.1.0 in /usr/local/lib/python3.6/dist-packages (from tensorflow==2.3.0) (1.1.0)\n",
            "Requirement already satisfied: opt-einsum>=2.3.2 in /usr/local/lib/python3.6/dist-packages (from tensorflow==2.3.0) (3.3.0)\n",
            "Requirement already satisfied: protobuf>=3.9.2 in /usr/local/lib/python3.6/dist-packages (from tensorflow==2.3.0) (3.12.4)\n",
            "Requirement already satisfied: wrapt>=1.11.1 in /usr/local/lib/python3.6/dist-packages (from tensorflow==2.3.0) (1.12.1)\n",
            "Requirement already satisfied: wheel>=0.26 in /usr/local/lib/python3.6/dist-packages (from tensorflow==2.3.0) (0.34.2)\n",
            "Requirement already satisfied: google-pasta>=0.1.8 in /usr/local/lib/python3.6/dist-packages (from tensorflow==2.3.0) (0.2.0)\n",
            "Requirement already satisfied: six>=1.12.0 in /usr/local/lib/python3.6/dist-packages (from tensorflow==2.3.0) (1.15.0)\n",
            "Requirement already satisfied: h5py<2.11.0,>=2.10.0 in /usr/local/lib/python3.6/dist-packages (from tensorflow==2.3.0) (2.10.0)\n",
            "Requirement already satisfied: keras-preprocessing<1.2,>=1.1.1 in /usr/local/lib/python3.6/dist-packages (from tensorflow==2.3.0) (1.1.2)\n",
            "Requirement already satisfied: numpy<1.19.0,>=1.16.0 in /usr/local/lib/python3.6/dist-packages (from tensorflow==2.3.0) (1.18.5)\n",
            "Requirement already satisfied: google-auth-oauthlib<0.5,>=0.4.1 in /usr/local/lib/python3.6/dist-packages (from tensorboard<3,>=2.3.0->tensorflow==2.3.0) (0.4.1)\n",
            "Requirement already satisfied: google-auth<2,>=1.6.3 in /usr/local/lib/python3.6/dist-packages (from tensorboard<3,>=2.3.0->tensorflow==2.3.0) (1.17.2)\n",
            "Requirement already satisfied: markdown>=2.6.8 in /usr/local/lib/python3.6/dist-packages (from tensorboard<3,>=2.3.0->tensorflow==2.3.0) (3.2.2)\n",
            "Requirement already satisfied: werkzeug>=0.11.15 in /usr/local/lib/python3.6/dist-packages (from tensorboard<3,>=2.3.0->tensorflow==2.3.0) (1.0.1)\n",
            "Requirement already satisfied: tensorboard-plugin-wit>=1.6.0 in /usr/local/lib/python3.6/dist-packages (from tensorboard<3,>=2.3.0->tensorflow==2.3.0) (1.7.0)\n",
            "Requirement already satisfied: requests<3,>=2.21.0 in /usr/local/lib/python3.6/dist-packages (from tensorboard<3,>=2.3.0->tensorflow==2.3.0) (2.23.0)\n",
            "Requirement already satisfied: setuptools>=41.0.0 in /usr/local/lib/python3.6/dist-packages (from tensorboard<3,>=2.3.0->tensorflow==2.3.0) (49.2.0)\n",
            "Requirement already satisfied: requests-oauthlib>=0.7.0 in /usr/local/lib/python3.6/dist-packages (from google-auth-oauthlib<0.5,>=0.4.1->tensorboard<3,>=2.3.0->tensorflow==2.3.0) (1.3.0)\n",
            "Requirement already satisfied: cachetools<5.0,>=2.0.0 in /usr/local/lib/python3.6/dist-packages (from google-auth<2,>=1.6.3->tensorboard<3,>=2.3.0->tensorflow==2.3.0) (4.1.1)\n",
            "Requirement already satisfied: pyasn1-modules>=0.2.1 in /usr/local/lib/python3.6/dist-packages (from google-auth<2,>=1.6.3->tensorboard<3,>=2.3.0->tensorflow==2.3.0) (0.2.8)\n",
            "Requirement already satisfied: rsa<5,>=3.1.4; python_version >= \"3\" in /usr/local/lib/python3.6/dist-packages (from google-auth<2,>=1.6.3->tensorboard<3,>=2.3.0->tensorflow==2.3.0) (4.6)\n",
            "Requirement already satisfied: importlib-metadata; python_version < \"3.8\" in /usr/local/lib/python3.6/dist-packages (from markdown>=2.6.8->tensorboard<3,>=2.3.0->tensorflow==2.3.0) (1.7.0)\n",
            "Requirement already satisfied: chardet<4,>=3.0.2 in /usr/local/lib/python3.6/dist-packages (from requests<3,>=2.21.0->tensorboard<3,>=2.3.0->tensorflow==2.3.0) (3.0.4)\n",
            "Requirement already satisfied: certifi>=2017.4.17 in /usr/local/lib/python3.6/dist-packages (from requests<3,>=2.21.0->tensorboard<3,>=2.3.0->tensorflow==2.3.0) (2020.6.20)\n",
            "Requirement already satisfied: urllib3!=1.25.0,!=1.25.1,<1.26,>=1.21.1 in /usr/local/lib/python3.6/dist-packages (from requests<3,>=2.21.0->tensorboard<3,>=2.3.0->tensorflow==2.3.0) (1.24.3)\n",
            "Requirement already satisfied: idna<3,>=2.5 in /usr/local/lib/python3.6/dist-packages (from requests<3,>=2.21.0->tensorboard<3,>=2.3.0->tensorflow==2.3.0) (2.10)\n",
            "Requirement already satisfied: oauthlib>=3.0.0 in /usr/local/lib/python3.6/dist-packages (from requests-oauthlib>=0.7.0->google-auth-oauthlib<0.5,>=0.4.1->tensorboard<3,>=2.3.0->tensorflow==2.3.0) (3.1.0)\n",
            "Requirement already satisfied: pyasn1<0.5.0,>=0.4.6 in /usr/local/lib/python3.6/dist-packages (from pyasn1-modules>=0.2.1->google-auth<2,>=1.6.3->tensorboard<3,>=2.3.0->tensorflow==2.3.0) (0.4.8)\n",
            "Requirement already satisfied: zipp>=0.5 in /usr/local/lib/python3.6/dist-packages (from importlib-metadata; python_version < \"3.8\"->markdown>=2.6.8->tensorboard<3,>=2.3.0->tensorflow==2.3.0) (3.1.0)\n"
          ],
          "name": "stdout"
        }
      ]
    },
    {
      "cell_type": "code",
      "metadata": {
        "id": "m7efx0TPPlzd",
        "colab_type": "code",
        "colab": {
          "base_uri": "https://localhost:8080/",
          "height": 34
        },
        "outputId": "66af589b-c9c6-4fb2-f4aa-b78a82dbeac3"
      },
      "source": [
        "import tensorflow as tf\n",
        "print(tf.__version__)"
      ],
      "execution_count": 2,
      "outputs": [
        {
          "output_type": "stream",
          "text": [
            "2.3.0\n"
          ],
          "name": "stdout"
        }
      ]
    },
    {
      "cell_type": "code",
      "metadata": {
        "id": "kGUnaBXCPpdb",
        "colab_type": "code",
        "colab": {}
      },
      "source": [
        "# import packages\n",
        "\n",
        "import numpy as np\n",
        "import pandas as pd\n",
        "import pickle\n",
        "import math\n",
        "import gc\n",
        "\n",
        "from tensorflow.keras.models import Sequential, Model\n",
        "from tensorflow.keras.layers import Bidirectional, Concatenate, Permute, Dot, Input, LSTM, GRU, Multiply\n",
        "from tensorflow.keras.layers import RepeatVector, Dense, Activation, Lambda, Add\n",
        "from tensorflow.keras.wrappers.scikit_learn import KerasRegressor\n",
        "from tensorflow.keras import regularizers\n",
        "from tensorflow.keras.optimizers import Adam\n",
        "from tensorflow.keras.utils import to_categorical\n",
        "from tensorflow.keras.callbacks import LambdaCallback\n",
        "\n",
        "from sklearn.model_selection import cross_val_score\n",
        "from sklearn.model_selection import KFold, StratifiedKFold\n",
        "from sklearn.preprocessing import StandardScaler\n",
        "from sklearn.pipeline import Pipeline"
      ],
      "execution_count": 3,
      "outputs": []
    },
    {
      "cell_type": "code",
      "metadata": {
        "id": "KxvC5R6oP1HE",
        "colab_type": "code",
        "colab": {
          "base_uri": "https://localhost:8080/",
          "height": 923
        },
        "outputId": "5467055b-82ee-4e47-f8fa-e34d9832f8fa"
      },
      "source": [
        "units=32\n",
        "cell = tf.keras.layers.LSTMCell(units)\n",
        "input = np.array([[0.2, 0.5], [0.3, 0.7]])\n",
        "mem = tf.convert_to_tensor(np.zeros((2, units), dtype=np.float32))\n",
        "carry = tf.convert_to_tensor(np.zeros((2, units), dtype=np.float32))\n",
        "cell(inputs=input, states=[mem, carry])"
      ],
      "execution_count": 11,
      "outputs": [
        {
          "output_type": "stream",
          "text": [
            "WARNING:tensorflow:Layer lstm_cell_7 is casting an input tensor from dtype float64 to the layer's dtype of float32, which is new behavior in TensorFlow 2.  The layer has dtype float32 because its dtype defaults to floatx.\n",
            "\n",
            "If you intended to run this layer in float32, you can safely ignore this warning. If in doubt, this warning is likely only an issue if you are porting a TensorFlow 1.X model to TensorFlow 2.\n",
            "\n",
            "To change all layers to have dtype float64 by default, call `tf.keras.backend.set_floatx('float64')`. To change just this layer, pass dtype='float64' to the layer constructor. If you are the author of this layer, you can disable autocasting by passing autocast=False to the base Layer constructor.\n",
            "\n"
          ],
          "name": "stdout"
        },
        {
          "output_type": "execute_result",
          "data": {
            "text/plain": [
              "(<tf.Tensor: shape=(2, 32), dtype=float32, numpy=\n",
              " array([[-0.01751487, -0.00890173, -0.03140524, -0.01012358, -0.02727371,\n",
              "          0.02813519,  0.01505922, -0.00239046,  0.01202725, -0.01125331,\n",
              "         -0.02082691,  0.01820233, -0.01598191,  0.00512828,  0.00348974,\n",
              "         -0.01504468,  0.02775636, -0.01890246,  0.01016029,  0.01946684,\n",
              "         -0.02173105, -0.02552926,  0.00318534, -0.01742436, -0.02062202,\n",
              "          0.0180798 ,  0.00536635,  0.01131215, -0.01880981,  0.01290112,\n",
              "          0.00642031, -0.012177  ],\n",
              "        [-0.02463336, -0.01326512, -0.04581995, -0.01400043, -0.03837473,\n",
              "          0.03994443,  0.02042888, -0.00374378,  0.01672371, -0.01508551,\n",
              "         -0.03025132,  0.02463639, -0.02332339,  0.00725605,  0.00415502,\n",
              "         -0.02069422,  0.03965472, -0.02673332,  0.01396547,  0.02605391,\n",
              "         -0.03020131, -0.03525942,  0.00355791, -0.02370153, -0.0292394 ,\n",
              "          0.02524588,  0.00742173,  0.01514185, -0.02596478,  0.01797868,\n",
              "          0.01002288, -0.01641048]], dtype=float32)>,\n",
              " [<tf.Tensor: shape=(2, 32), dtype=float32, numpy=\n",
              "  array([[-0.01751487, -0.00890173, -0.03140524, -0.01012358, -0.02727371,\n",
              "           0.02813519,  0.01505922, -0.00239046,  0.01202725, -0.01125331,\n",
              "          -0.02082691,  0.01820233, -0.01598191,  0.00512828,  0.00348974,\n",
              "          -0.01504468,  0.02775636, -0.01890246,  0.01016029,  0.01946684,\n",
              "          -0.02173105, -0.02552926,  0.00318534, -0.01742436, -0.02062202,\n",
              "           0.0180798 ,  0.00536635,  0.01131215, -0.01880981,  0.01290112,\n",
              "           0.00642031, -0.012177  ],\n",
              "         [-0.02463336, -0.01326512, -0.04581995, -0.01400043, -0.03837473,\n",
              "           0.03994443,  0.02042888, -0.00374378,  0.01672371, -0.01508551,\n",
              "          -0.03025132,  0.02463639, -0.02332339,  0.00725605,  0.00415502,\n",
              "          -0.02069422,  0.03965472, -0.02673332,  0.01396547,  0.02605391,\n",
              "          -0.03020131, -0.03525942,  0.00355791, -0.02370153, -0.0292394 ,\n",
              "           0.02524588,  0.00742173,  0.01514185, -0.02596478,  0.01797868,\n",
              "           0.01002288, -0.01641048]], dtype=float32)>,\n",
              "  <tf.Tensor: shape=(2, 32), dtype=float32, numpy=\n",
              "  array([[-0.03513691, -0.01695857, -0.06078733, -0.02121106, -0.0530615 ,\n",
              "           0.05381344,  0.03074088, -0.00488144,  0.0235841 , -0.02292771,\n",
              "          -0.04058693,  0.0388747 , -0.03062037,  0.0100166 ,  0.00733855,\n",
              "          -0.02902107,  0.05475606, -0.03663836,  0.0192406 ,  0.04152989,\n",
              "          -0.04418324, -0.05326317,  0.00640079, -0.03623829, -0.04411415,\n",
              "           0.03709014,  0.0111082 ,  0.02265783, -0.03686222,  0.02638013,\n",
              "           0.01235982, -0.02520358],\n",
              "         [-0.04942643, -0.02476867, -0.0876809 , -0.02996929, -0.07375902,\n",
              "           0.07509077,  0.04205077, -0.00769952,  0.03249743, -0.03092008,\n",
              "          -0.05826621,  0.05415056, -0.04390215,  0.01404627,  0.00893879,\n",
              "          -0.03932792,  0.07791929, -0.05129348,  0.02587593,  0.05720944,\n",
              "          -0.06190971, -0.07501906,  0.00717206, -0.05019997, -0.0645008 ,\n",
              "           0.0523352 ,  0.01559183,  0.03030594, -0.05047537,  0.03714129,\n",
              "           0.01900587, -0.03438456]], dtype=float32)>])"
            ]
          },
          "metadata": {
            "tags": []
          },
          "execution_count": 11
        }
      ]
    },
    {
      "cell_type": "code",
      "metadata": {
        "id": "JC8g9WGvSxTY",
        "colab_type": "code",
        "colab": {
          "base_uri": "https://localhost:8080/",
          "height": 1000
        },
        "outputId": "24d614ee-cd69-4838-98ee-9e07b1734917"
      },
      "source": [
        "units=32\n",
        "mem_init = tf.convert_to_tensor(np.zeros((2, units), dtype=np.float32))\n",
        "carry_init = tf.convert_to_tensor(np.zeros((2, units), dtype=np.float32))\n",
        "\n",
        "input1 = np.array([[0.2, 0.5], [0.3, 0.7]])\n",
        "mem, carry = tf.keras.layers.LSTMCell(units)(input1, [mem_init, carry_init])\n",
        "\n",
        "print(mem, carry)\n",
        "\n",
        "input2 = np.array([[0.2, 0.5], [0.3, 0.7]])\n",
        "mem, carry = tf.keras.layers.LSTMCell(units)(input2, carry)\n",
        "\n",
        "\n",
        "print(mem, carry)"
      ],
      "execution_count": 15,
      "outputs": [
        {
          "output_type": "stream",
          "text": [
            "WARNING:tensorflow:Layer lstm_cell_14 is casting an input tensor from dtype float64 to the layer's dtype of float32, which is new behavior in TensorFlow 2.  The layer has dtype float32 because its dtype defaults to floatx.\n",
            "\n",
            "If you intended to run this layer in float32, you can safely ignore this warning. If in doubt, this warning is likely only an issue if you are porting a TensorFlow 1.X model to TensorFlow 2.\n",
            "\n",
            "To change all layers to have dtype float64 by default, call `tf.keras.backend.set_floatx('float64')`. To change just this layer, pass dtype='float64' to the layer constructor. If you are the author of this layer, you can disable autocasting by passing autocast=False to the base Layer constructor.\n",
            "\n",
            "tf.Tensor(\n",
            "[[ 2.1371369e-03 -3.1672048e-03 -6.4677214e-03  2.2098493e-02\n",
            "  -1.2521722e-02  1.1506545e-02 -1.4653857e-02 -2.6375610e-02\n",
            "   2.5979115e-02  3.3197895e-02 -1.5926857e-02  2.0971131e-02\n",
            "   2.4621960e-02  3.2044929e-02 -1.3317928e-02 -1.6588809e-02\n",
            "  -4.7974805e-03 -1.0016679e-02  1.1730544e-02 -2.6290722e-02\n",
            "  -4.9741049e-03 -2.4665892e-02 -4.9845492e-03  2.9143400e-02\n",
            "  -1.8542824e-02 -9.5590809e-03 -5.6423885e-03  5.9373386e-05\n",
            "  -1.8050611e-02  2.0590350e-02  1.4222486e-02  6.5053208e-03]\n",
            " [ 2.5404163e-03 -5.5743125e-03 -9.3424404e-03  3.0154109e-02\n",
            "  -1.8288702e-02  1.6972819e-02 -2.1142352e-02 -3.7686940e-02\n",
            "   3.7403710e-02  4.6957746e-02 -2.1372309e-02  3.0409569e-02\n",
            "   3.4730762e-02  4.5520544e-02 -1.9509694e-02 -2.3532134e-02\n",
            "  -7.5213360e-03 -1.3192960e-02  1.5355251e-02 -3.8119923e-02\n",
            "  -8.1063816e-03 -3.5288736e-02 -6.7303218e-03  4.1252013e-02\n",
            "  -2.5737446e-02 -1.2711740e-02 -8.0422740e-03  2.4667382e-04\n",
            "  -2.5598917e-02  2.8145161e-02  2.1660114e-02  8.1530185e-03]], shape=(2, 32), dtype=float32) [<tf.Tensor: shape=(2, 32), dtype=float32, numpy=\n",
            "array([[ 2.1371369e-03, -3.1672048e-03, -6.4677214e-03,  2.2098493e-02,\n",
            "        -1.2521722e-02,  1.1506545e-02, -1.4653857e-02, -2.6375610e-02,\n",
            "         2.5979115e-02,  3.3197895e-02, -1.5926857e-02,  2.0971131e-02,\n",
            "         2.4621960e-02,  3.2044929e-02, -1.3317928e-02, -1.6588809e-02,\n",
            "        -4.7974805e-03, -1.0016679e-02,  1.1730544e-02, -2.6290722e-02,\n",
            "        -4.9741049e-03, -2.4665892e-02, -4.9845492e-03,  2.9143400e-02,\n",
            "        -1.8542824e-02, -9.5590809e-03, -5.6423885e-03,  5.9373386e-05,\n",
            "        -1.8050611e-02,  2.0590350e-02,  1.4222486e-02,  6.5053208e-03],\n",
            "       [ 2.5404163e-03, -5.5743125e-03, -9.3424404e-03,  3.0154109e-02,\n",
            "        -1.8288702e-02,  1.6972819e-02, -2.1142352e-02, -3.7686940e-02,\n",
            "         3.7403710e-02,  4.6957746e-02, -2.1372309e-02,  3.0409569e-02,\n",
            "         3.4730762e-02,  4.5520544e-02, -1.9509694e-02, -2.3532134e-02,\n",
            "        -7.5213360e-03, -1.3192960e-02,  1.5355251e-02, -3.8119923e-02,\n",
            "        -8.1063816e-03, -3.5288736e-02, -6.7303218e-03,  4.1252013e-02,\n",
            "        -2.5737446e-02, -1.2711740e-02, -8.0422740e-03,  2.4667382e-04,\n",
            "        -2.5598917e-02,  2.8145161e-02,  2.1660114e-02,  8.1530185e-03]],\n",
            "      dtype=float32)>, <tf.Tensor: shape=(2, 32), dtype=float32, numpy=\n",
            "array([[ 0.00412348, -0.00620979, -0.01264236,  0.04399898, -0.0240094 ,\n",
            "         0.02195662, -0.02952662, -0.05019079,  0.05007168,  0.06985859,\n",
            "        -0.0326687 ,  0.04273294,  0.04710456,  0.0650485 , -0.02710022,\n",
            "        -0.0343484 , -0.01005643, -0.01929681,  0.02398163, -0.05043359,\n",
            "        -0.00938881, -0.05116445, -0.00972693,  0.0609732 , -0.03910335,\n",
            "        -0.01962622, -0.01171907,  0.00012055, -0.03503706,  0.04131202,\n",
            "         0.02654413,  0.01266892],\n",
            "       [ 0.00483469, -0.01084256, -0.01809877,  0.06000701, -0.03444213,\n",
            "         0.03177552, -0.042805  , -0.07030142,  0.07108908,  0.10103898,\n",
            "        -0.04420326,  0.0625555 ,  0.06527753,  0.09321035, -0.04001521,\n",
            "        -0.04946904, -0.01606864, -0.02508176,  0.03161997, -0.07190818,\n",
            "        -0.01494763, -0.07424001, -0.0129984 ,  0.08796278, -0.05562273,\n",
            "        -0.02635874, -0.0169441 ,  0.00050383, -0.04910809,  0.05659856,\n",
            "         0.03931803,  0.01573999]], dtype=float32)>]\n",
            "WARNING:tensorflow:Layer lstm_cell_15 is casting an input tensor from dtype float64 to the layer's dtype of float32, which is new behavior in TensorFlow 2.  The layer has dtype float32 because its dtype defaults to floatx.\n",
            "\n",
            "If you intended to run this layer in float32, you can safely ignore this warning. If in doubt, this warning is likely only an issue if you are porting a TensorFlow 1.X model to TensorFlow 2.\n",
            "\n",
            "To change all layers to have dtype float64 by default, call `tf.keras.backend.set_floatx('float64')`. To change just this layer, pass dtype='float64' to the layer constructor. If you are the author of this layer, you can disable autocasting by passing autocast=False to the base Layer constructor.\n",
            "\n",
            "tf.Tensor(\n",
            "[[-3.4280482e-03 -2.0165414e-02 -1.6334388e-02  4.8253417e-02\n",
            "  -4.0747025e-03 -6.3847005e-04 -2.9105118e-02  4.9108146e-03\n",
            "   3.5237178e-02  5.9621289e-02  1.5028589e-02  3.7087176e-02\n",
            "  -1.1730590e-02 -1.6360630e-04 -1.1944893e-02 -2.6786367e-03\n",
            "  -2.2391634e-02  2.4862690e-02 -1.7900114e-03  3.6400115e-06\n",
            "  -1.1967395e-02 -6.3720145e-03 -8.9465417e-03  4.1423652e-02\n",
            "   9.7808586e-03 -3.9061625e-02  2.0101078e-02 -8.7523563e-03\n",
            "  -4.6244234e-02  1.5967138e-02 -8.0290819e-03 -5.1159193e-03]\n",
            " [-6.0517169e-03 -2.8947560e-02 -2.3300895e-02  6.5448627e-02\n",
            "  -6.1688288e-03  1.5957557e-04 -4.0953580e-02  7.4119987e-03\n",
            "   5.0545037e-02  8.5697979e-02  2.1516059e-02  5.3126656e-02\n",
            "  -1.7129667e-02 -6.3274907e-05 -1.7743357e-02 -4.4387341e-03\n",
            "  -3.0958494e-02  3.6202986e-02 -3.5378435e-03 -1.0343279e-03\n",
            "  -1.6812049e-02 -9.0538990e-03 -1.1685567e-02  5.7963219e-02\n",
            "   1.3656952e-02 -5.5023585e-02  2.7671259e-02 -1.2106689e-02\n",
            "  -6.6194229e-02  2.0948371e-02 -1.1514534e-02 -8.8240020e-03]], shape=(2, 32), dtype=float32) [<tf.Tensor: shape=(2, 32), dtype=float32, numpy=\n",
            "array([[-3.4280482e-03, -2.0165414e-02, -1.6334388e-02,  4.8253417e-02,\n",
            "        -4.0747025e-03, -6.3847005e-04, -2.9105118e-02,  4.9108146e-03,\n",
            "         3.5237178e-02,  5.9621289e-02,  1.5028589e-02,  3.7087176e-02,\n",
            "        -1.1730590e-02, -1.6360630e-04, -1.1944893e-02, -2.6786367e-03,\n",
            "        -2.2391634e-02,  2.4862690e-02, -1.7900114e-03,  3.6400115e-06,\n",
            "        -1.1967395e-02, -6.3720145e-03, -8.9465417e-03,  4.1423652e-02,\n",
            "         9.7808586e-03, -3.9061625e-02,  2.0101078e-02, -8.7523563e-03,\n",
            "        -4.6244234e-02,  1.5967138e-02, -8.0290819e-03, -5.1159193e-03],\n",
            "       [-6.0517169e-03, -2.8947560e-02, -2.3300895e-02,  6.5448627e-02,\n",
            "        -6.1688288e-03,  1.5957557e-04, -4.0953580e-02,  7.4119987e-03,\n",
            "         5.0545037e-02,  8.5697979e-02,  2.1516059e-02,  5.3126656e-02,\n",
            "        -1.7129667e-02, -6.3274907e-05, -1.7743357e-02, -4.4387341e-03,\n",
            "        -3.0958494e-02,  3.6202986e-02, -3.5378435e-03, -1.0343279e-03,\n",
            "        -1.6812049e-02, -9.0538990e-03, -1.1685567e-02,  5.7963219e-02,\n",
            "         1.3656952e-02, -5.5023585e-02,  2.7671259e-02, -1.2106689e-02,\n",
            "        -6.6194229e-02,  2.0948371e-02, -1.1514534e-02, -8.8240020e-03]],\n",
            "      dtype=float32)>, <tf.Tensor: shape=(2, 32), dtype=float32, numpy=\n",
            "array([[-6.78410800e-03, -4.06566001e-02, -3.24622281e-02,\n",
            "         1.02534354e-01, -7.87641015e-03, -1.23585016e-03,\n",
            "        -5.84646426e-02,  9.77514684e-03,  6.72988072e-02,\n",
            "         1.19968869e-01,  3.00545599e-02,  7.48807490e-02,\n",
            "        -2.28586867e-02, -3.46884131e-04, -2.36058887e-02,\n",
            "        -5.23267128e-03, -4.62334454e-02,  4.99471575e-02,\n",
            "        -3.76562960e-03,  7.32392073e-06, -2.39336900e-02,\n",
            "        -1.27479993e-02, -1.86628513e-02,  8.03952366e-02,\n",
            "         1.91330127e-02, -7.46795982e-02,  4.21720892e-02,\n",
            "        -1.72953103e-02, -8.85605067e-02,  3.20062079e-02,\n",
            "        -1.52476560e-02, -9.98340733e-03],\n",
            "       [-1.19086988e-02, -5.86372539e-02, -4.62220460e-02,\n",
            "         1.43040121e-01, -1.17671173e-02,  3.04913148e-04,\n",
            "        -8.26391727e-02,  1.47250630e-02,  9.48980004e-02,\n",
            "         1.73255235e-01,  4.30928618e-02,  1.07853234e-01,\n",
            "        -3.30513343e-02, -1.37709081e-04, -3.49669196e-02,\n",
            "        -8.59016180e-03, -6.48925081e-02,  7.29707554e-02,\n",
            "        -7.60344416e-03, -2.08521634e-03, -3.36961150e-02,\n",
            "        -1.81045234e-02, -2.48386227e-02,  1.11528635e-01,\n",
            "         2.64292546e-02, -1.03450552e-01,  5.91954216e-02,\n",
            "        -2.37899888e-02, -1.24877498e-01,  4.20254804e-02,\n",
            "        -2.14110520e-02, -1.70721970e-02]], dtype=float32)>]\n"
          ],
          "name": "stdout"
        }
      ]
    }
  ]
}